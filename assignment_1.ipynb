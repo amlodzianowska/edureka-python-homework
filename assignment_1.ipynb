{
  "nbformat": 4,
  "nbformat_minor": 0,
  "metadata": {
    "colab": {
      "provenance": [],
      "authorship_tag": "ABX9TyMnLQAkySdQkgANY9hheiYP",
      "include_colab_link": true
    },
    "kernelspec": {
      "name": "python3",
      "display_name": "Python 3"
    },
    "language_info": {
      "name": "python"
    }
  },
  "cells": [
    {
      "cell_type": "markdown",
      "metadata": {
        "id": "view-in-github",
        "colab_type": "text"
      },
      "source": [
        "<a href=\"https://colab.research.google.com/github/amlodzianowska/edureka-python-homework/blob/main/assignment_1.ipynb\" target=\"_parent\"><img src=\"https://colab.research.google.com/assets/colab-badge.svg\" alt=\"Open In Colab\"/></a>"
      ]
    },
    {
      "cell_type": "code",
      "execution_count": null,
      "metadata": {
        "colab": {
          "base_uri": "https://localhost:8080/"
        },
        "id": "P1ofNJoC8OaZ",
        "outputId": "facda3a0-961c-4ab5-c60b-37178fc86da9"
      },
      "outputs": [
        {
          "output_type": "stream",
          "name": "stdout",
          "text": [
            "{'odd': [1, 3, 11, 33], 'even': [2, 6, 22, 66]}\n",
            "Please provide an integer\n"
          ]
        }
      ],
      "source": [
        "# Write a program to find the factors of agiven number and check whether the factor is even or odd\n",
        "\n",
        "def find_factors(x):\n",
        "  if not isinstance(x, int):\n",
        "    return \"Please provide an integer\"\n",
        "\n",
        "  factors = {\n",
        "      \"odd\": [],\n",
        "      \"even\": []\n",
        "  }\n",
        "  for i in range(1, x//2 + 1):\n",
        "    if x % i != 0:\n",
        "      continue\n",
        "\n",
        "    categorize_factor(factors, i)\n",
        "\n",
        "  categorize_factor(factors, x)\n",
        "\n",
        "  return factors;\n",
        "\n",
        "def categorize_factor(dictionary, factor):\n",
        "  if factor % 2 == 0:\n",
        "    dictionary[\"even\"].append(factor)\n",
        "  else:\n",
        "    dictionary[\"odd\"].append(factor)\n",
        "\n",
        "print(find_factors(66))\n",
        "print(find_factors(\"hello\"))"
      ]
    },
    {
      "cell_type": "code",
      "source": [
        "def validate_string_input(value):\n",
        "    if not isinstance(value, str):\n",
        "        return False, \"Input must be a string\"\n",
        "    if value == \"\":\n",
        "        return False, \"Provide a valid string\"\n",
        "    return True, \"\""
      ],
      "metadata": {
        "id": "M55Iy-_8OBGy"
      },
      "execution_count": 21,
      "outputs": []
    },
    {
      "cell_type": "code",
      "source": [
        "#Write a code that accepts a sequence of words as input and prints the words in a sequence after sorting them alphabetically\n",
        "\n",
        "def split_and_sort(word_sequence):\n",
        "  valid, message = validate_string_input(word_sequence)\n",
        "  if not valid:\n",
        "    return message\n",
        "\n",
        "  word_list = sorted(word_sequence.split(), key=str.lower)\n",
        "\n",
        "  return word_list\n",
        "\n",
        "print(split_and_sort(\"hello there hedgehog lamp anna There Anna android Brown bake\"))\n",
        "print(split_and_sort(832894))"
      ],
      "metadata": {
        "colab": {
          "base_uri": "https://localhost:8080/"
        },
        "id": "LrZI2pEmF8dj",
        "outputId": "f5933100-8c4a-48ae-f929-91fab2466495"
      },
      "execution_count": 23,
      "outputs": [
        {
          "output_type": "stream",
          "name": "stdout",
          "text": [
            "['android', 'anna', 'Anna', 'bake', 'Brown', 'hedgehog', 'hello', 'lamp', 'there', 'There']\n",
            "Input must be a string\n"
          ]
        }
      ]
    },
    {
      "cell_type": "code",
      "source": [
        "# Write a program that accepts a string and calculates the number of letters and digits\n",
        "\n",
        "def character_count(string):\n",
        "  valid, message = validate_string_input(string)\n",
        "  if not valid:\n",
        "    return message\n",
        "\n",
        "  counts = {\n",
        "      \"letters\": 0,\n",
        "      \"numbers\": 0\n",
        "  }\n",
        "\n",
        "  for char in string:\n",
        "    if char.isalpha():\n",
        "      counts[\"letters\"] += 1\n",
        "    elif char.isdigit():\n",
        "      counts[\"numbers\"] += 1\n",
        "\n",
        "  return counts\n",
        "\n",
        "print(character_count(\"fhefhu4342\"))\n",
        "print(character_count(9999))"
      ],
      "metadata": {
        "colab": {
          "base_uri": "https://localhost:8080/"
        },
        "id": "dPhIa03uKnJM",
        "outputId": "20a3af9a-bc35-4e0c-fd8e-3d28c0b2e908"
      },
      "execution_count": 24,
      "outputs": [
        {
          "output_type": "stream",
          "name": "stdout",
          "text": [
            "{'letters': 6, 'numbers': 4}\n",
            "Input must be a string\n"
          ]
        }
      ]
    }
  ]
}