{
  "nbformat": 4,
  "nbformat_minor": 0,
  "metadata": {
    "colab": {
      "provenance": [],
      "authorship_tag": "ABX9TyOHEjB0MhFVsDgLk4X1jehn",
      "include_colab_link": true
    },
    "kernelspec": {
      "name": "python3",
      "display_name": "Python 3"
    },
    "language_info": {
      "name": "python"
    }
  },
  "cells": [
    {
      "cell_type": "markdown",
      "metadata": {
        "id": "view-in-github",
        "colab_type": "text"
      },
      "source": [
        "<a href=\"https://colab.research.google.com/github/amlodzianowska/edureka-python-homework/blob/main/assignment_1.ipynb\" target=\"_parent\"><img src=\"https://colab.research.google.com/assets/colab-badge.svg\" alt=\"Open In Colab\"/></a>"
      ]
    },
    {
      "cell_type": "code",
      "execution_count": null,
      "metadata": {
        "colab": {
          "base_uri": "https://localhost:8080/"
        },
        "id": "P1ofNJoC8OaZ",
        "outputId": "facda3a0-961c-4ab5-c60b-37178fc86da9"
      },
      "outputs": [
        {
          "output_type": "stream",
          "name": "stdout",
          "text": [
            "{'odd': [1, 3, 11, 33], 'even': [2, 6, 22, 66]}\n",
            "Please provide an integer\n"
          ]
        }
      ],
      "source": [
        "# Write a program to find the factors of agiven number and check whether the factor is even or odd\n",
        "\n",
        "def find_factors(x):\n",
        "  if not isinstance(x, int):\n",
        "    return \"Please provide an integer\"\n",
        "\n",
        "  factors = {\n",
        "      \"odd\": [],\n",
        "      \"even\": []\n",
        "  }\n",
        "  for i in range(1, x//2 + 1):\n",
        "    if x % i != 0:\n",
        "      continue\n",
        "\n",
        "    categorize_factor(factors, i)\n",
        "\n",
        "  categorize_factor(factors, x)\n",
        "\n",
        "  return factors;\n",
        "\n",
        "def categorize_factor(dictionary, factor):\n",
        "  if factor % 2 == 0:\n",
        "    dictionary[\"even\"].append(factor)\n",
        "  else:\n",
        "    dictionary[\"odd\"].append(factor)\n",
        "\n",
        "print(find_factors(66))\n",
        "print(find_factors(\"hello\"))"
      ]
    },
    {
      "cell_type": "code",
      "source": [
        "#Write a code that accepts a sequence of words as input and prints the words in a sequence after sorting them alphabetically\n",
        "\n",
        "def split_and_sort(word_sequence):\n",
        "  if word_sequence == \"\":\n",
        "    return \"Provide a valid word sequence\"\n",
        "\n",
        "  word_list = sorted(word_sequence.split(), key=str.lower)\n",
        "\n",
        "  return word_list\n",
        "\n",
        "print(split_and_sort(\"hello there hedgehog lamp anna There Anna android Brown bake\"))"
      ],
      "metadata": {
        "colab": {
          "base_uri": "https://localhost:8080/"
        },
        "id": "LrZI2pEmF8dj",
        "outputId": "f80ca656-238c-462d-9178-9d93af390179"
      },
      "execution_count": 7,
      "outputs": [
        {
          "output_type": "stream",
          "name": "stdout",
          "text": [
            "['android', 'anna', 'Anna', 'bake', 'Brown', 'hedgehog', 'hello', 'lamp', 'there', 'There']\n"
          ]
        }
      ]
    }
  ]
}